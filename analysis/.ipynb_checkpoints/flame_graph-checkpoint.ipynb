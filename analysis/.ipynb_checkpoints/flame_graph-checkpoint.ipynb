{
 "cells": [
  {
   "cell_type": "code",
   "execution_count": null,
   "metadata": {},
   "outputs": [],
   "source": [
    "import numpy as np"
   ]
  },
  {
   "cell_type": "code",
   "execution_count": null,
   "metadata": {},
   "outputs": [],
   "source": [
    "from os.path import expanduser\n",
    "home = expanduser(\"~\")\n",
    "\n",
    "import sys\n",
    "sys.path.insert(0, home + '/ros2_trace_test/src/tracetools_analysis/tracetools_analysis')\n",
    "sys.path.insert(0, home + '/ros2_foxy_fork/src/ros-tracing/ros2_tracing/tracetools_read')\n",
    "import pandas as pd"
   ]
  },
  {
   "cell_type": "code",
   "execution_count": null,
   "metadata": {},
   "outputs": [],
   "source": [
    "from tracetools_analysis.ros_model import ApplicationFactory"
   ]
  },
  {
   "cell_type": "code",
   "execution_count": null,
   "metadata": {},
   "outputs": [],
   "source": [
    "from tracetools_analysis.ros_model.comm import Comm\n",
    "from tracetools_analysis.ros_model.node import NodePath"
   ]
  },
  {
   "cell_type": "code",
   "execution_count": null,
   "metadata": {},
   "outputs": [],
   "source": [
    "trace_path = '~/.ros/tracing/e2e_demo/ust'\n",
    "architecture_path = './architecture.json'"
   ]
  },
  {
   "cell_type": "code",
   "execution_count": null,
   "metadata": {},
   "outputs": [],
   "source": [
    "app = ApplicationFactory.create(architecture_path)"
   ]
  },
  {
   "cell_type": "code",
   "execution_count": null,
   "metadata": {},
   "outputs": [],
   "source": [
    "app.import_trace(trace_path, start_transition_ms=1000, end_transition_ms=1000)"
   ]
  },
  {
   "cell_type": "code",
   "execution_count": null,
   "metadata": {},
   "outputs": [],
   "source": [
    "# E2E path\n",
    "e2e_path = app.paths[1]"
   ]
  },
  {
   "cell_type": "code",
   "execution_count": null,
   "metadata": {},
   "outputs": [],
   "source": [
    "# get flamegraph.pl\n",
    "! wget https://raw.githubusercontent.com/brendangregg/FlameGraph/master/flamegraph.pl -O flamegraph.pl\n",
    "! chmod +x ./flamegraph.pl"
   ]
  },
  {
   "cell_type": "code",
   "execution_count": null,
   "metadata": {},
   "outputs": [],
   "source": [
    "# create flamegraph.log\n",
    "from tracetools_analysis.ros_model.flame import Flame\n",
    "\n",
    "collapsed_file = './flame_graph.log'\n",
    "Flame.collapse(e2e_path, fd=open(collapsed_file, 'w'))"
   ]
  },
  {
   "cell_type": "code",
   "execution_count": null,
   "metadata": {},
   "outputs": [],
   "source": [
    "# export flame_graph.svg\n",
    "! ./flamegraph.pl $collapsed_file --countname ms --title $e2e_path.name > flame_graph.svg"
   ]
  },
  {
   "cell_type": "code",
   "execution_count": null,
   "metadata": {},
   "outputs": [],
   "source": []
  }
 ],
 "metadata": {
  "kernelspec": {
   "display_name": "Python 3",
   "language": "python",
   "name": "python3"
  },
  "language_info": {
   "codemirror_mode": {
    "name": "ipython",
    "version": 3
   },
   "file_extension": ".py",
   "mimetype": "text/x-python",
   "name": "python",
   "nbconvert_exporter": "python",
   "pygments_lexer": "ipython3",
   "version": "3.8.5"
  }
 },
 "nbformat": 4,
 "nbformat_minor": 4
}
